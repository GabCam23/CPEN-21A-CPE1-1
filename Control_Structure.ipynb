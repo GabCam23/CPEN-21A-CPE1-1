{
  "nbformat": 4,
  "nbformat_minor": 0,
  "metadata": {
    "colab": {
      "name": "Control Structure.ipynb",
      "provenance": [],
      "authorship_tag": "ABX9TyPSBOJmRmaoSr0M7Hym8PfA",
      "include_colab_link": true
    },
    "kernelspec": {
      "name": "python3",
      "display_name": "Python 3"
    },
    "language_info": {
      "name": "python"
    }
  },
  "cells": [
    {
      "cell_type": "markdown",
      "metadata": {
        "id": "view-in-github",
        "colab_type": "text"
      },
      "source": [
        "<a href=\"https://colab.research.google.com/github/GabCam23/CPEN-21A-CPE1-1/blob/main/Control_Structure.ipynb\" target=\"_parent\"><img src=\"https://colab.research.google.com/assets/colab-badge.svg\" alt=\"Open In Colab\"/></a>"
      ]
    },
    {
      "cell_type": "markdown",
      "metadata": {
        "id": "tUGvbphqr-4G"
      },
      "source": [
        "##If Statement"
      ]
    },
    {
      "cell_type": "code",
      "metadata": {
        "colab": {
          "base_uri": "https://localhost:8080/"
        },
        "id": "0xXdheRtrSOo",
        "outputId": "fbd9245f-22cf-4b0d-f67e-5b581437d457"
      },
      "source": [
        "a = 12\n",
        "b = 100\n",
        "\n",
        "if b>a:\n",
        " print(\"b is greater than a\")"
      ],
      "execution_count": 4,
      "outputs": [
        {
          "output_type": "stream",
          "name": "stdout",
          "text": [
            "b is greater than a\n"
          ]
        }
      ]
    },
    {
      "cell_type": "markdown",
      "metadata": {
        "id": "FQiOwJPLszUm"
      },
      "source": [
        "##Elif Condition"
      ]
    },
    {
      "cell_type": "code",
      "metadata": {
        "colab": {
          "base_uri": "https://localhost:8080/"
        },
        "id": "TfzmtNXVs6eh",
        "outputId": "7fa35f9b-e853-4668-969c-bc473b4eb296"
      },
      "source": [
        "a = 12\n",
        "b = 12\n",
        "if b>a:\n",
        "  print(\"b is greater than a\")\n",
        "elif a==b:\n",
        "  print(\"a is equal to b\")"
      ],
      "execution_count": 6,
      "outputs": [
        {
          "output_type": "stream",
          "name": "stdout",
          "text": [
            "a is equal to b\n"
          ]
        }
      ]
    },
    {
      "cell_type": "markdown",
      "metadata": {
        "id": "fd2nVYdftWay"
      },
      "source": [
        "##Else Statement"
      ]
    },
    {
      "cell_type": "code",
      "metadata": {
        "colab": {
          "base_uri": "https://localhost:8080/"
        },
        "id": "OSHRqf22ta1w",
        "outputId": "1f4170f3-364a-45af-acad-a9d2ff588949"
      },
      "source": [
        "a = 12\n",
        "b = 120\n",
        "if b>a:\n",
        "  print(\"b is greater than a\")\n",
        "elif a==b:\n",
        "  print(\"a is equal to b\")\n",
        "else:\n",
        "  print(\"b is less than a\")"
      ],
      "execution_count": 11,
      "outputs": [
        {
          "output_type": "stream",
          "name": "stdout",
          "text": [
            "b is greater than a\n"
          ]
        }
      ]
    },
    {
      "cell_type": "markdown",
      "metadata": {
        "id": "zeQ1ocNruCy6"
      },
      "source": [
        "##Short Hand If Statement"
      ]
    },
    {
      "cell_type": "code",
      "metadata": {
        "id": "rQkMyL7KuUeo"
      },
      "source": [
        "if a>b:print(\"a is greater than b\")"
      ],
      "execution_count": 12,
      "outputs": []
    },
    {
      "cell_type": "markdown",
      "metadata": {
        "id": "5Fj_I6RSuoHE"
      },
      "source": [
        "##Short Hand If... Else Statement"
      ]
    },
    {
      "cell_type": "code",
      "metadata": {
        "colab": {
          "base_uri": "https://localhost:8080/"
        },
        "id": "B4TWFZGFutiv",
        "outputId": "5820310e-d7e2-416a-beba-1c23fbb7f64f"
      },
      "source": [
        "print(\"a is greater than b\")if a>b else print(\"b is greater than a\")"
      ],
      "execution_count": 13,
      "outputs": [
        {
          "output_type": "stream",
          "name": "stdout",
          "text": [
            "b is greater than a\n"
          ]
        }
      ]
    },
    {
      "cell_type": "markdown",
      "metadata": {
        "id": "qtokAUGBv94T"
      },
      "source": [
        "##And condition"
      ]
    },
    {
      "cell_type": "code",
      "metadata": {
        "colab": {
          "base_uri": "https://localhost:8080/"
        },
        "id": "alwE-YEewRjN",
        "outputId": "7974633a-6b5b-49ba-da31-a71328504d71"
      },
      "source": [
        "a = 15\n",
        "b = 35\n",
        "\n",
        "if b>a and a<b:\n",
        "  print(\"Both conditions are True\")\n",
        "elif b<a and a>b:\n",
        "  print(\"a is larger than b\")\n",
        "else:\n",
        "  print(\"none of the above\")"
      ],
      "execution_count": 16,
      "outputs": [
        {
          "output_type": "stream",
          "name": "stdout",
          "text": [
            "Both conditions are True\n"
          ]
        }
      ]
    },
    {
      "cell_type": "markdown",
      "metadata": {
        "id": "rdRO5apBww-f"
      },
      "source": [
        "##Or condition"
      ]
    },
    {
      "cell_type": "code",
      "metadata": {
        "colab": {
          "base_uri": "https://localhost:8080/"
        },
        "id": "83XcGidywy9L",
        "outputId": "8cdac0dd-37c8-4287-bb2d-709ef2a457b8"
      },
      "source": [
        "a = 35\n",
        "b = 20\n",
        "\n",
        "if b>a or a==b:\n",
        "  print(\"True\")\n",
        "else:\n",
        "  print(\"False\")"
      ],
      "execution_count": 18,
      "outputs": [
        {
          "output_type": "stream",
          "name": "stdout",
          "text": [
            "False\n"
          ]
        }
      ]
    },
    {
      "cell_type": "markdown",
      "metadata": {
        "id": "TTl7Xceoxi0T"
      },
      "source": [
        "##Nested If"
      ]
    },
    {
      "cell_type": "code",
      "metadata": {
        "colab": {
          "base_uri": "https://localhost:8080/"
        },
        "id": "5xknHxYdxnbR",
        "outputId": "d075c363-19f6-4d8f-ce15-2c627c2de0f4"
      },
      "source": [
        "x = 9\n",
        "if x>10:\n",
        "  print(\"Above 10\")\n",
        "if x>20:\n",
        " print(\"Above 20\")\n",
        "if x>30:\n",
        " print(\"Above 30\")\n",
        "else:\n",
        " print(\"Not Above 10\")"
      ],
      "execution_count": 29,
      "outputs": [
        {
          "output_type": "stream",
          "name": "stdout",
          "text": [
            "Not Above 10\n"
          ]
        }
      ]
    },
    {
      "cell_type": "markdown",
      "metadata": {
        "id": "hxw-rgFjzmi-"
      },
      "source": [
        "##Application of If... Else Statement"
      ]
    },
    {
      "cell_type": "code",
      "metadata": {
        "colab": {
          "base_uri": "https://localhost:8080/"
        },
        "id": "O1zgaGDSzsJZ",
        "outputId": "543ab12f-e877-4135-9efc-3f95e24e9af6"
      },
      "source": [
        "#Example 1\n",
        "\n",
        "age = int(input(\"Enter your age.\"))\n",
        "\n",
        "if age>=18:\n",
        "  print(\"You are qualified to vote!\")\n",
        "else:\n",
        "  print(\"You are not qualified to vote!\")"
      ],
      "execution_count": 35,
      "outputs": [
        {
          "output_type": "stream",
          "name": "stdout",
          "text": [
            "Enter your age.18\n",
            "You are qualified to vote!\n"
          ]
        }
      ]
    },
    {
      "cell_type": "code",
      "metadata": {
        "colab": {
          "base_uri": "https://localhost:8080/"
        },
        "id": "Mb7mAGdl0rdw",
        "outputId": "8afb23c5-970a-4ebd-9c88-269b2c8a6952"
      },
      "source": [
        "#Example 2 to check whether 0, negative, or positive number\n",
        "\n",
        "number = int(input(\"Enter the number.\"))\n",
        "\n",
        "if number==0:\n",
        "  print(\"Zero\")\n",
        "elif number>0:\n",
        "  print(\"Positive\")\n",
        "else:\n",
        "  print(\"Negative\")\n"
      ],
      "execution_count": 38,
      "outputs": [
        {
          "output_type": "stream",
          "name": "stdout",
          "text": [
            "Enter the number.-1\n",
            "Negative\n"
          ]
        }
      ]
    },
    {
      "cell_type": "code",
      "metadata": {
        "colab": {
          "base_uri": "https://localhost:8080/"
        },
        "id": "R3Ba-JcI1evE",
        "outputId": "156ed725-8c72-405b-f7ad-698845807896"
      },
      "source": [
        "#Example 3\n",
        "\n",
        "grade = int(input(\"Enter the Grade.\"))\n",
        "\n",
        "if grade>=75:\n",
        "  print(\"Passed\")\n",
        "elif grade==74:\n",
        "  print(\"Remedial\")\n",
        "else:\n",
        "  print(\"Failed\")"
      ],
      "execution_count": 42,
      "outputs": [
        {
          "output_type": "stream",
          "name": "stdout",
          "text": [
            "Enter the Grade.73\n",
            "Failed\n"
          ]
        }
      ]
    }
  ]
}