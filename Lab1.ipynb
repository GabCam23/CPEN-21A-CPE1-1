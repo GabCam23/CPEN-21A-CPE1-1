{
  "nbformat": 4,
  "nbformat_minor": 0,
  "metadata": {
    "colab": {
      "name": "Lab1.ipynb",
      "provenance": [],
      "authorship_tag": "ABX9TyPEigGqhgdmN8uqC4D8Exg5",
      "include_colab_link": true
    },
    "kernelspec": {
      "name": "python3",
      "display_name": "Python 3"
    },
    "language_info": {
      "name": "python"
    }
  },
  "cells": [
    {
      "cell_type": "markdown",
      "metadata": {
        "id": "view-in-github",
        "colab_type": "text"
      },
      "source": [
        "<a href=\"https://colab.research.google.com/github/GabCam23/CPEN-21A-CPE1-1/blob/main/Lab1.ipynb\" target=\"_parent\"><img src=\"https://colab.research.google.com/assets/colab-badge.svg\" alt=\"Open In Colab\"/></a>"
      ]
    },
    {
      "cell_type": "markdown",
      "metadata": {
        "id": "XeT3NcEKZOJ6"
      },
      "source": [
        "###Welcome to Python Programming"
      ]
    },
    {
      "cell_type": "markdown",
      "metadata": {
        "id": "v0PoQa4dazjY"
      },
      "source": [
        "#Name"
      ]
    },
    {
      "cell_type": "code",
      "metadata": {
        "colab": {
          "base_uri": "https://localhost:8080/"
        },
        "id": "4BbybB4Fa3YP",
        "outputId": "2709b3cc-c423-4b4f-fcc8-2a618c55573c"
      },
      "source": [
        "a=\"Gabriel Q. Camandono\"\n",
        "print(a)  "
      ],
      "execution_count": 6,
      "outputs": [
        {
          "output_type": "stream",
          "name": "stdout",
          "text": [
            "Gabriel Q. Camandono\n"
          ]
        }
      ]
    },
    {
      "cell_type": "markdown",
      "metadata": {
        "id": "rnpo9_ZXbHYJ"
      },
      "source": [
        "#Address"
      ]
    },
    {
      "cell_type": "code",
      "metadata": {
        "colab": {
          "base_uri": "https://localhost:8080/"
        },
        "id": "gT8nBV_YbNds",
        "outputId": "4f864a14-0e0a-4814-cf07-022bd0446f2b"
      },
      "source": [
        "b=\"Blk.27 Lot64 Birds of Paradise Village Park Subdivision, Langkaan I, Dasmarinas, Cavite\"\n",
        "print(b)"
      ],
      "execution_count": 7,
      "outputs": [
        {
          "output_type": "stream",
          "name": "stdout",
          "text": [
            "Blk.27 Lot64 Birds of Paradise Village Park Subdivision, Langkaan I, Dasmarinas, Cavite\n"
          ]
        }
      ]
    },
    {
      "cell_type": "markdown",
      "metadata": {
        "id": "octD4tSfbeUk"
      },
      "source": [
        "#Age"
      ]
    },
    {
      "cell_type": "code",
      "metadata": {
        "colab": {
          "base_uri": "https://localhost:8080/"
        },
        "id": "8cT-V61obmV3",
        "outputId": "35acc8d0-aa6b-48b5-a075-0d7a27ce71f7"
      },
      "source": [
        "c=18\n",
        "print(c)"
      ],
      "execution_count": 8,
      "outputs": [
        {
          "output_type": "stream",
          "name": "stdout",
          "text": [
            "18\n"
          ]
        }
      ]
    }
  ]
}