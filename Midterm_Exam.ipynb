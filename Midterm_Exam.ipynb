{
  "nbformat": 4,
  "nbformat_minor": 0,
  "metadata": {
    "colab": {
      "name": "Midterm Exam.ipynb",
      "provenance": [],
      "authorship_tag": "ABX9TyP8t+aty9GGKd1+4Ol/YctY",
      "include_colab_link": true
    },
    "kernelspec": {
      "name": "python3",
      "display_name": "Python 3"
    },
    "language_info": {
      "name": "python"
    }
  },
  "cells": [
    {
      "cell_type": "markdown",
      "metadata": {
        "id": "view-in-github",
        "colab_type": "text"
      },
      "source": [
        "<a href=\"https://colab.research.google.com/github/GabCam23/CPEN-21A-CPE1-1/blob/main/Midterm_Exam.ipynb\" target=\"_parent\"><img src=\"https://colab.research.google.com/assets/colab-badge.svg\" alt=\"Open In Colab\"/></a>"
      ]
    },
    {
      "cell_type": "markdown",
      "metadata": {
        "id": "hV7sSR7KlZCc"
      },
      "source": [
        "###Problem Statement 1"
      ]
    },
    {
      "cell_type": "code",
      "metadata": {
        "colab": {
          "base_uri": "https://localhost:8080/"
        },
        "id": "jO_1xf_Yh-Fr",
        "outputId": "7a54b7ae-3042-4c8c-b0d8-c712de9c9985"
      },
      "source": [
        "Name = \"Gabriel Q Camandono\"\n",
        "StudentNumber = \"202101726\"\n",
        "Age = \"18\"\n",
        "Birthday = \"April 23, 2003\"\n",
        "Address = \"B27 L64 Birds of Paradise Vilaage Park Subdivision, Langkaan I, Dasmarinas, Cavite\"\n",
        "Course = \"BS Computer Engineering\"\n",
        "LastSemGWA = \"94.17\"\n",
        "\n",
        "print(Name)\n",
        "print(StudentNumber)\n",
        "print(Age)\n",
        "print(Birthday)\n",
        "print(Address)\n",
        "print(Course)\n",
        "print(LastSemGWA)"
      ],
      "execution_count": 5,
      "outputs": [
        {
          "output_type": "stream",
          "name": "stdout",
          "text": [
            "Gabriel Q Camandono\n",
            "202101726\n",
            "18\n",
            "April 23, 2003\n",
            "B27 L64 Birds of Paradise Vilaage Park Subdivision, Langkaan I, Dasmarinas, Cavite\n",
            "BS Computer Engineering\n",
            "94.17\n"
          ]
        }
      ]
    },
    {
      "cell_type": "markdown",
      "metadata": {
        "id": "8Z78XqevlSmy"
      },
      "source": [
        "###Problem Statement 2"
      ]
    },
    {
      "cell_type": "code",
      "metadata": {
        "colab": {
          "base_uri": "https://localhost:8080/"
        },
        "id": "lt04s8C6lWjf",
        "outputId": "7551e5a0-3883-4727-d5fc-faf67213baa1"
      },
      "source": [
        "n = 4\n",
        "answ = \"Y\"\n",
        "print(2<n)and(n<6)\n",
        "print(2<n)or(n==6)\n",
        "print(not(2<n)or(n==6))\n",
        "print(not(n<6))\n",
        "print(answ==\"Y\")or(answ==\"y\")\n",
        "print(answ==\"Y\")and(answ==\"y\")\n",
        "print(not(answ==\"y\"))\n",
        "print((2<n)and(n==5+1))or(answ==\"No\")\n",
        "print((n==2)and(n==7))or(answ==\"Y\")\n",
        "print(n==2)and((n==7)or(answ==\"Y\"))"
      ],
      "execution_count": 31,
      "outputs": [
        {
          "output_type": "stream",
          "name": "stdout",
          "text": [
            "True\n",
            "True\n",
            "False\n",
            "False\n",
            "True\n",
            "True\n",
            "True\n",
            "False\n",
            "False\n",
            "False\n"
          ]
        }
      ]
    },
    {
      "cell_type": "markdown",
      "metadata": {
        "id": "WR85z40otdy2"
      },
      "source": [
        "###Problem Statement 3"
      ]
    },
    {
      "cell_type": "code",
      "metadata": {
        "colab": {
          "base_uri": "https://localhost:8080/"
        },
        "id": "w-UYPgdCtgJN",
        "outputId": "5a95677e-203f-4656-e88c-02b4d59f2e7c"
      },
      "source": [
        "x = 2\n",
        "y = -3\n",
        "w = 7\n",
        "z = -10\n",
        "\n",
        "print(x/y)\n",
        "print(w/y/x)\n",
        "print(z/y%x)\n",
        "print(x&-y*w)\n",
        "print(x%y)\n",
        "print(z%w-y/x*5+5)\n",
        "print(9-x%(2+y))\n",
        "print(z//w)\n",
        "print((2+y)**2)\n",
        "print(w/x*2)"
      ],
      "execution_count": 45,
      "outputs": [
        {
          "output_type": "stream",
          "name": "stdout",
          "text": [
            "-0.6666666666666666\n",
            "-1.1666666666666667\n",
            "1.3333333333333335\n",
            "0\n",
            "-1\n",
            "16.5\n",
            "9\n",
            "-2\n",
            "1\n",
            "7.0\n"
          ]
        }
      ]
    }
  ]
}