{
  "nbformat": 4,
  "nbformat_minor": 0,
  "metadata": {
    "colab": {
      "name": "Final Exam.ipynb",
      "provenance": [],
      "authorship_tag": "ABX9TyO1uOSPNwuCFxjYrY8PhG5u",
      "include_colab_link": true
    },
    "kernelspec": {
      "name": "python3",
      "display_name": "Python 3"
    },
    "language_info": {
      "name": "python"
    }
  },
  "cells": [
    {
      "cell_type": "markdown",
      "metadata": {
        "id": "view-in-github",
        "colab_type": "text"
      },
      "source": [
        "<a href=\"https://colab.research.google.com/github/GabCam23/CPEN-21A-CPE1-1/blob/main/Final_Exam.ipynb\" target=\"_parent\"><img src=\"https://colab.research.google.com/assets/colab-badge.svg\" alt=\"Open In Colab\"/></a>"
      ]
    },
    {
      "cell_type": "markdown",
      "source": [
        "###Problem Statement 1"
      ],
      "metadata": {
        "id": "GKgihpZCA6ER"
      }
    },
    {
      "cell_type": "markdown",
      "source": [
        "Create a Python program that will produce an output of sum of 10 numbers less than 5 using FOR LOOP statement."
      ],
      "metadata": {
        "id": "8yE2re9sBBb7"
      }
    },
    {
      "cell_type": "code",
      "source": [
        "sum = 0\n",
        "for x in range(10):\n",
        "    x = int(input(\"enter a number less than 5: \"))\n",
        "    if x >= 5:\n",
        "        print(\"number not less than 5\")\n",
        "        continue\n",
        "    else:\n",
        "        sum += x\n",
        "print(sum)"
      ],
      "metadata": {
        "colab": {
          "base_uri": "https://localhost:8080/"
        },
        "id": "B_iUiuVXRtAs",
        "outputId": "6e6e7c9e-c84d-4f14-9def-8d1118d1e85c"
      },
      "execution_count": null,
      "outputs": [
        {
          "output_type": "stream",
          "name": "stdout",
          "text": [
            "enter a number less than 5: 9\n",
            "number not less than 5\n",
            "enter a number less than 5: 5\n",
            "number not less than 5\n",
            "enter a number less than 5: 4\n",
            "enter a number less than 5: 3\n",
            "enter a number less than 5: 2\n",
            "enter a number less than 5: 1\n",
            "enter a number less than 5: 2\n",
            "enter a number less than 5: 3\n",
            "enter a number less than 5: 4\n",
            "enter a number less than 5: 0\n",
            "19\n"
          ]
        }
      ]
    },
    {
      "cell_type": "markdown",
      "source": [
        "###Problem Statement 2"
      ],
      "metadata": {
        "id": "Rt4dDH1HcyrZ"
      }
    },
    {
      "cell_type": "markdown",
      "source": [
        "Create a Python program that will produce accept five numbers and determine the sum of first and last number among the five numbers entered using WHILE LOOP"
      ],
      "metadata": {
        "id": "AaNLa_STc3Aj"
      }
    },
    {
      "cell_type": "code",
      "source": [
        "x = 0\n",
        "sum = 0\n",
        "while x != 5:\n",
        "    y = int(input(\"please enter an integer: \"))\n",
        "    if x == 0 or x == 4:\n",
        "        sum += y\n",
        "        x += 1\n",
        "    else:\n",
        "        x += 1\n",
        "print(sum)"
      ],
      "metadata": {
        "colab": {
          "base_uri": "https://localhost:8080/"
        },
        "id": "VORGX2Bac7Ah",
        "outputId": "695ad25d-a462-43fc-a39d-3da92f026ffe"
      },
      "execution_count": null,
      "outputs": [
        {
          "output_type": "stream",
          "name": "stdout",
          "text": [
            "please enter an integer: 9\n",
            "please enter an integer: 1\n",
            "please enter an integer: 4\n",
            "please enter an integer: 6\n",
            "please enter an integer: 10\n",
            "19\n"
          ]
        }
      ]
    },
    {
      "cell_type": "markdown",
      "source": [
        "###Problem Statement 3"
      ],
      "metadata": {
        "id": "bIylWis8c-5I"
      }
    },
    {
      "cell_type": "markdown",
      "source": [
        "Create a Python program to calculate student grades. It accepts a numerical grade as input and it will display the character grade as output based on the given scale: (Use Nested-IF-Else statement)"
      ],
      "metadata": {
        "id": "G8tCib6TdBR6"
      }
    },
    {
      "cell_type": "code",
      "source": [
        "grade = int(input(\"Enter your numerical grade \"))\n",
        "if grade>90:\n",
        "   print(\"A\")\n",
        "elif grade>=80:\n",
        "  print(\"B\")\n",
        "elif grade>=70:\n",
        "  print(\"C\")\n",
        "elif grade>=60:\n",
        "  print(\"D\")\n",
        "else:\n",
        "  print(\"F\")"
      ],
      "metadata": {
        "colab": {
          "base_uri": "https://localhost:8080/"
        },
        "id": "GN-WkiuVhlb0",
        "outputId": "231d2d0c-5755-4f04-fb0b-4c9ac965f915"
      },
      "execution_count": null,
      "outputs": [
        {
          "output_type": "stream",
          "name": "stdout",
          "text": [
            "Enter your numerical grade 67\n",
            "D\n"
          ]
        }
      ]
    }
  ]
}