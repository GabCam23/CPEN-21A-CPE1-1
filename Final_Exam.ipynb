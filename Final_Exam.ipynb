{
  "nbformat": 4,
  "nbformat_minor": 0,
  "metadata": {
    "colab": {
      "name": "Final Exam.ipynb",
      "provenance": [],
      "authorship_tag": "ABX9TyMTSlRMiHktKAmZofi/PfpR",
      "include_colab_link": true
    },
    "kernelspec": {
      "name": "python3",
      "display_name": "Python 3"
    },
    "language_info": {
      "name": "python"
    }
  },
  "cells": [
    {
      "cell_type": "markdown",
      "metadata": {
        "id": "view-in-github",
        "colab_type": "text"
      },
      "source": [
        "<a href=\"https://colab.research.google.com/github/GabCam23/CPEN-21A-CPE1-1/blob/main/Final_Exam.ipynb\" target=\"_parent\"><img src=\"https://colab.research.google.com/assets/colab-badge.svg\" alt=\"Open In Colab\"/></a>"
      ]
    },
    {
      "cell_type": "markdown",
      "source": [
        "###Problem Statement 1"
      ],
      "metadata": {
        "id": "lFF6cdeTArAL"
      }
    },
    {
      "cell_type": "markdown",
      "source": [
        "Create a Python program that will produce an output of sum of 10 numbers less than 5 using FOR LOOP statement."
      ],
      "metadata": {
        "id": "xrbVe7QBAssZ"
      }
    },
    {
      "cell_type": "code",
      "execution_count": 1,
      "metadata": {
        "colab": {
          "base_uri": "https://localhost:8080/"
        },
        "id": "RYwE5jxgAdpC",
        "outputId": "9d1bb1ee-0836-42bf-8f50-d53228e838c9"
      },
      "outputs": [
        {
          "output_type": "stream",
          "name": "stdout",
          "text": [
            "enter a number less than 5: 4\n",
            "enter a number less than 5: 3\n",
            "enter a number less than 5: 5\n",
            "number not less than 5\n",
            "enter a number less than 5: 6\n",
            "number not less than 5\n",
            "enter a number less than 5: 3\n",
            "enter a number less than 5: 1\n",
            "enter a number less than 5: 0\n",
            "enter a number less than 5: 2\n",
            "enter a number less than 5: 3\n",
            "enter a number less than 5: 4\n",
            "20\n"
          ]
        }
      ],
      "source": [
        "sum = 0\n",
        "for x in range(10):\n",
        "    x = int(input(\"enter a number less than 5: \"))\n",
        "    if x >= 5:\n",
        "        print(\"number not less than 5\")\n",
        "        continue\n",
        "    else:\n",
        "        sum += x\n",
        "print(sum)"
      ]
    },
    {
      "cell_type": "markdown",
      "source": [
        "###Problem Statement 2"
      ],
      "metadata": {
        "id": "hqxOSvpbBSrD"
      }
    },
    {
      "cell_type": "markdown",
      "source": [
        "Create a Python program that will produce accept five numbers and determine the sum of first and last number among the five numbers entered using WHILE LOOP"
      ],
      "metadata": {
        "id": "dBBHO5DHBVLC"
      }
    },
    {
      "cell_type": "code",
      "source": [
        "x = 0\n",
        "sum = 0\n",
        "while x != 5:\n",
        "    y = int(input(\"please enter an integer: \"))\n",
        "    if x == 0 or x == 4:\n",
        "        sum += y\n",
        "        x += 1\n",
        "    else:\n",
        "        x += 1\n",
        "print(sum)"
      ],
      "metadata": {
        "colab": {
          "base_uri": "https://localhost:8080/"
        },
        "id": "BbGj11mNBXL-",
        "outputId": "62355cfb-5ddc-433a-cb13-ff734d25dce4"
      },
      "execution_count": 2,
      "outputs": [
        {
          "output_type": "stream",
          "name": "stdout",
          "text": [
            "please enter an integer: 4\n",
            "please enter an integer: 3\n",
            "please enter an integer: -5\n",
            "please enter an integer: 44\n",
            "please enter an integer: 2\n",
            "6\n"
          ]
        }
      ]
    },
    {
      "cell_type": "markdown",
      "source": [
        "###Problem Statement 3"
      ],
      "metadata": {
        "id": "-XLXRtRcCLtc"
      }
    },
    {
      "cell_type": "markdown",
      "source": [
        "Create a Python program to calculate student grades. It accepts a numerical grade as input and it will display the character grade as output based on the given scale: (Use Nested-IF-Else statement)"
      ],
      "metadata": {
        "id": "dBrFrzA2CPlx"
      }
    },
    {
      "cell_type": "code",
      "source": [
        "grade = int(input(\"Enter your numerical grade \"))\n",
        "if grade>=90:\n",
        "   print(\"A\")\n",
        "elif grade>=80:\n",
        "  print(\"B\")\n",
        "elif grade>=70:\n",
        "  print(\"C\")\n",
        "elif grade>=60:\n",
        "  print(\"D\")\n",
        "else:\n",
        "  print(\"F\")"
      ],
      "metadata": {
        "colab": {
          "base_uri": "https://localhost:8080/"
        },
        "id": "jzz5GmqKCQUN",
        "outputId": "1144faea-9f25-4055-dd91-05183fc6b776"
      },
      "execution_count": 5,
      "outputs": [
        {
          "output_type": "stream",
          "name": "stdout",
          "text": [
            "Enter your numerical grade 38\n",
            "F\n"
          ]
        }
      ]
    }
  ]
}